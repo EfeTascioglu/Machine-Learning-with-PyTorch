{
  "nbformat": 4,
  "nbformat_minor": 0,
  "metadata": {
    "colab": {
      "name": "Pytorch learn",
      "version": "0.3.2",
      "provenance": [],
      "include_colab_link": true
    },
    "kernelspec": {
      "name": "python3",
      "display_name": "Python 3"
    },
    "accelerator": "GPU"
  },
  "cells": [
    {
      "cell_type": "markdown",
      "metadata": {
        "id": "view-in-github",
        "colab_type": "text"
      },
      "source": [
        "<a href=\"https://colab.research.google.com/github/EfeTascioglu/Machine-Learning-with-PyTorch/blob/master/Pytorch_learn.ipynb\" target=\"_parent\"><img src=\"https://colab.research.google.com/assets/colab-badge.svg\" alt=\"Open In Colab\"/></a>"
      ]
    },
    {
      "cell_type": "code",
      "metadata": {
        "id": "IBXvjVS7uo9P",
        "colab_type": "code",
        "colab": {}
      },
      "source": [
        "import torch\n",
        "import torchvision\n",
        "import torch.nn as nn\n",
        "import torch.nn.functional as F"
      ],
      "execution_count": 0,
      "outputs": []
    },
    {
      "cell_type": "code",
      "metadata": {
        "id": "m7VM0Uy4uQDL",
        "colab_type": "code",
        "colab": {}
      },
      "source": [
        "\"\"\"\n",
        "from IPython.core.debugger import set_trace\n",
        "\n",
        "def f(x):\n",
        "  res = x * x\n",
        "  set_trace()\n",
        "  return res\n",
        "\n",
        "x = torch.randn(1, requires_grad = True)\n",
        "y = f(x)\n",
        "\"\"\""
      ],
      "execution_count": 0,
      "outputs": []
    },
    {
      "cell_type": "code",
      "metadata": {
        "id": "0zH6QXeS0Y6l",
        "colab_type": "code",
        "colab": {}
      },
      "source": [
        "\"\"\"\n",
        "from collections import OrderedDict\n",
        "\n",
        "\n",
        "layers = OrderedDict([\n",
        "    ('conv1', nn.Conv2d(in_channels=1, out_channels=20, kernel_size=5))\n",
        "])\n",
        "model = nn.Sequential(layers)\n",
        "\"\"\""
      ],
      "execution_count": 0,
      "outputs": []
    },
    {
      "cell_type": "markdown",
      "metadata": {
        "id": "eBkC7SZ6bk7B",
        "colab_type": "text"
      },
      "source": [
        "_like means takes in another Tensor instead of sizes\n",
        "\n",
        "randn -> mean 0, variance 1\n",
        "\n",
        "randint -> (low, high, sizes)\n",
        "\n",
        "randint_like(x, low, high)"
      ]
    },
    {
      "cell_type": "code",
      "metadata": {
        "id": "OM_U1Q4yXqGn",
        "colab_type": "code",
        "colab": {
          "base_uri": "https://localhost:8080/",
          "height": 201
        },
        "outputId": "387ba011-a953-4c24-da79-c01096c5c633"
      },
      "source": [
        "x = x.new_ones(5, 3, dtype=torch.double)      # new_* methods take in sizes\n",
        "print(x)\n",
        "\n",
        "x = torch.randn_like(x, dtype=torch.float)    # override dtype!\n",
        "print(x)                                      # result has the same size"
      ],
      "execution_count": 5,
      "outputs": [
        {
          "output_type": "stream",
          "text": [
            "tensor([[1., 1., 1.],\n",
            "        [1., 1., 1.],\n",
            "        [1., 1., 1.],\n",
            "        [1., 1., 1.],\n",
            "        [1., 1., 1.]], dtype=torch.float64)\n",
            "tensor([[-0.8712,  0.0820, -1.0769],\n",
            "        [ 0.1931,  0.4399, -0.6486],\n",
            "        [ 0.2433, -0.9184,  0.5804],\n",
            "        [ 0.9115,  1.4057, -0.9224],\n",
            "        [-0.7652,  0.5908,  1.1210]])\n"
          ],
          "name": "stdout"
        }
      ]
    },
    {
      "cell_type": "code",
      "metadata": {
        "id": "-tvmaoWKchh9",
        "colab_type": "code",
        "colab": {
          "base_uri": "https://localhost:8080/",
          "height": 35
        },
        "outputId": "49d191aa-af13-4b98-8065-269af4352188"
      },
      "source": [
        "print(x.size())"
      ],
      "execution_count": 6,
      "outputs": [
        {
          "output_type": "stream",
          "text": [
            "torch.Size([5, 3])\n"
          ],
          "name": "stdout"
        }
      ]
    },
    {
      "cell_type": "code",
      "metadata": {
        "id": "VZ9kt_H-dy-K",
        "colab_type": "code",
        "colab": {}
      },
      "source": [
        "y = torch.rand(5,3)"
      ],
      "execution_count": 0,
      "outputs": []
    },
    {
      "cell_type": "code",
      "metadata": {
        "id": "ZQdhM31AdeV1",
        "colab_type": "code",
        "colab": {
          "base_uri": "https://localhost:8080/",
          "height": 109
        },
        "outputId": "950a7a7b-77bb-4bd8-ccf8-daa5285c6ae6"
      },
      "source": [
        "\n",
        "torch.add(x, y)\n",
        "\n",
        "#OR\n",
        "\n",
        "result = torch.empty(5,3)\n",
        "torch.add(x, y, out=result)\n",
        "#this keeps tensor3 sizes\n",
        "\n",
        "#OR\n",
        "\n",
        "x + y\n",
        "\n",
        "#OR\n",
        "\n",
        "x.add_(y)\n",
        "#x is already added\n",
        "\n",
        "#All work\n"
      ],
      "execution_count": 15,
      "outputs": [
        {
          "output_type": "execute_result",
          "data": {
            "text/plain": [
              "tensor([[2.8677, 3.0073, 0.6395],\n",
              "        [4.6987, 5.1678, 3.4201],\n",
              "        [0.2932, 4.0846, 1.1373],\n",
              "        [5.8390, 1.5760, 2.5463],\n",
              "        [4.2492, 3.6848, 2.4318]])"
            ]
          },
          "metadata": {
            "tags": []
          },
          "execution_count": 15
        }
      ]
    },
    {
      "cell_type": "code",
      "metadata": {
        "id": "IRAgmsbNPqFq",
        "colab_type": "code",
        "colab": {
          "base_uri": "https://localhost:8080/",
          "height": 109
        },
        "outputId": "bf62d5ac-adb0-4520-d74f-06c0f32e911c"
      },
      "source": [
        "print(x)"
      ],
      "execution_count": 16,
      "outputs": [
        {
          "output_type": "stream",
          "text": [
            "tensor([[2.8677, 3.0073, 0.6395],\n",
            "        [4.6987, 5.1678, 3.4201],\n",
            "        [0.2932, 4.0846, 1.1373],\n",
            "        [5.8390, 1.5760, 2.5463],\n",
            "        [4.2492, 3.6848, 2.4318]])\n"
          ],
          "name": "stdout"
        }
      ]
    },
    {
      "cell_type": "code",
      "metadata": {
        "id": "7_QPangLPtA_",
        "colab_type": "code",
        "colab": {
          "base_uri": "https://localhost:8080/",
          "height": 35
        },
        "outputId": "44dcc61e-4479-4642-b9b8-b36242b78156"
      },
      "source": [
        "print(x[:, 1]) # prints collumn 1 (e.g 0, 1, 2)\n"
      ],
      "execution_count": 17,
      "outputs": [
        {
          "output_type": "stream",
          "text": [
            "tensor([3.0073, 5.1678, 4.0846, 1.5760, 3.6848])\n"
          ],
          "name": "stdout"
        }
      ]
    },
    {
      "cell_type": "code",
      "metadata": {
        "id": "finaB2KpRDFZ",
        "colab_type": "code",
        "colab": {
          "base_uri": "https://localhost:8080/",
          "height": 182
        },
        "outputId": "e413934d-dd79-4b86-cd97-31a9e9905254"
      },
      "source": [
        "x = torch.randn(4,4)\n",
        "print(x)\n",
        "y = x.view(16) # rearange/resize\n",
        "print(y)\n",
        "z = x.view(-1, 8)  # the size -1 is inferred from other dimensions\n",
        "# for example, since there is 16 values, 16/8 = 2   (-1 = 2)\n",
        "print(z)\n",
        "print(x.size(), y.size(), z.size())"
      ],
      "execution_count": 20,
      "outputs": [
        {
          "output_type": "stream",
          "text": [
            "tensor([[ 1.2036,  0.3352, -0.8797,  0.1856],\n",
            "        [ 1.5617, -1.9622,  0.3835,  1.8229],\n",
            "        [-0.3723,  0.6476,  1.1635,  1.9080],\n",
            "        [-0.2063, -0.8104,  0.4370,  0.4309]])\n",
            "tensor([ 1.2036,  0.3352, -0.8797,  0.1856,  1.5617, -1.9622,  0.3835,  1.8229,\n",
            "        -0.3723,  0.6476,  1.1635,  1.9080, -0.2063, -0.8104,  0.4370,  0.4309])\n",
            "tensor([[ 1.2036,  0.3352, -0.8797,  0.1856,  1.5617, -1.9622,  0.3835,  1.8229],\n",
            "        [-0.3723,  0.6476,  1.1635,  1.9080, -0.2063, -0.8104,  0.4370,  0.4309]])\n",
            "torch.Size([4, 4]) torch.Size([16]) torch.Size([2, 8])\n"
          ],
          "name": "stdout"
        }
      ]
    },
    {
      "cell_type": "code",
      "metadata": {
        "id": "fZM-N7aSRszN",
        "colab_type": "code",
        "colab": {}
      },
      "source": [
        ""
      ],
      "execution_count": 0,
      "outputs": []
    }
  ]
}